{
 "cells": [
  {
   "cell_type": "code",
   "execution_count": 1,
   "id": "1cfc1a2f",
   "metadata": {},
   "outputs": [],
   "source": [
    "import numpy as np"
   ]
  },
  {
   "cell_type": "code",
   "execution_count": 2,
   "id": "cd966ce9",
   "metadata": {},
   "outputs": [],
   "source": [
    "# Vector/list/array"
   ]
  },
  {
   "cell_type": "code",
   "execution_count": 3,
   "id": "83b31ed3",
   "metadata": {},
   "outputs": [
    {
     "name": "stdout",
     "output_type": "stream",
     "text": [
      "[1 2 3 4 5 6 7 8]\n"
     ]
    }
   ],
   "source": [
    "array = np.array([1,2,3,4,5,6,7,8])\n",
    "\n",
    "print(array)"
   ]
  },
  {
   "cell_type": "code",
   "execution_count": 4,
   "id": "54a7ace8",
   "metadata": {},
   "outputs": [
    {
     "data": {
      "text/plain": [
       "numpy.ndarray"
      ]
     },
     "execution_count": 4,
     "metadata": {},
     "output_type": "execute_result"
    }
   ],
   "source": [
    "type(array)"
   ]
  },
  {
   "cell_type": "code",
   "execution_count": 5,
   "id": "53f11a36",
   "metadata": {},
   "outputs": [
    {
     "data": {
      "text/plain": [
       "1"
      ]
     },
     "execution_count": 5,
     "metadata": {},
     "output_type": "execute_result"
    }
   ],
   "source": [
    "# check dimension of array\n",
    "\n",
    "array.ndim"
   ]
  },
  {
   "cell_type": "code",
   "execution_count": 18,
   "id": "c6a56706",
   "metadata": {},
   "outputs": [
    {
     "data": {
      "text/plain": [
       "(10,)"
      ]
     },
     "execution_count": 18,
     "metadata": {},
     "output_type": "execute_result"
    }
   ],
   "source": [
    "array.shape"
   ]
  },
  {
   "cell_type": "code",
   "execution_count": 6,
   "id": "27f110a7",
   "metadata": {},
   "outputs": [
    {
     "name": "stdout",
     "output_type": "stream",
     "text": [
      "[0 1 2 3 4 5 6 7 8 9]\n"
     ]
    }
   ],
   "source": [
    "array = np.arange(10)\n",
    "print(array)"
   ]
  },
  {
   "cell_type": "code",
   "execution_count": 16,
   "id": "0a01f2e8",
   "metadata": {},
   "outputs": [
    {
     "name": "stdout",
     "output_type": "stream",
     "text": [
      "5.41 ms ± 103 µs per loop (mean ± std. dev. of 7 runs, 100 loops each)\n"
     ]
    }
   ],
   "source": [
    "#python list\n",
    "l = range(10000)\n",
    "%timeit [i**2 for i in l]"
   ]
  },
  {
   "cell_type": "code",
   "execution_count": 17,
   "id": "2921dc93",
   "metadata": {},
   "outputs": [
    {
     "name": "stdout",
     "output_type": "stream",
     "text": [
      "14.5 µs ± 383 ns per loop (mean ± std. dev. of 7 runs, 100,000 loops each)\n"
     ]
    }
   ],
   "source": [
    "#np.array\n",
    "a = np.arange(10000)\n",
    "%timeit a**2"
   ]
  },
  {
   "cell_type": "code",
   "execution_count": 106,
   "id": "423b6903",
   "metadata": {},
   "outputs": [
    {
     "name": "stdout",
     "output_type": "stream",
     "text": [
      "[[1 2 3]\n",
      " [5 6 7]]\n"
     ]
    }
   ],
   "source": [
    "#2D array\n",
    "#array of arrays\n",
    "\n",
    "array_2d = np.array([[1,2,3],[5,6,7]])\n",
    "print(array_2d)"
   ]
  },
  {
   "cell_type": "code",
   "execution_count": 107,
   "id": "9ba8ab11",
   "metadata": {},
   "outputs": [
    {
     "name": "stdout",
     "output_type": "stream",
     "text": [
      "2\n",
      "(2, 3)\n"
     ]
    }
   ],
   "source": [
    "print(array_2d.ndim)\n",
    "print(array_2d.shape)"
   ]
  },
  {
   "cell_type": "code",
   "execution_count": 108,
   "id": "ada50bcf",
   "metadata": {},
   "outputs": [
    {
     "data": {
      "text/plain": [
       "array([[1, 5],\n",
       "       [2, 6],\n",
       "       [3, 7]])"
      ]
     },
     "execution_count": 108,
     "metadata": {},
     "output_type": "execute_result"
    }
   ],
   "source": [
    "#Aaray Transpose\n",
    "\n",
    "array_2d = array_2d.T\n",
    "array_2d"
   ]
  },
  {
   "cell_type": "code",
   "execution_count": 109,
   "id": "28131220",
   "metadata": {},
   "outputs": [
    {
     "name": "stdout",
     "output_type": "stream",
     "text": [
      "2\n",
      "(3, 2)\n"
     ]
    }
   ],
   "source": [
    "print(array_2d.ndim)\n",
    "print(array_2d.shape)"
   ]
  },
  {
   "cell_type": "code",
   "execution_count": 23,
   "id": "1d3eca20",
   "metadata": {},
   "outputs": [
    {
     "name": "stdout",
     "output_type": "stream",
     "text": [
      "[[[ 1  2  3]\n",
      "  [ 5  6  7]]\n",
      "\n",
      " [[10 20 30]\n",
      "  [50 60 70]]]\n"
     ]
    }
   ],
   "source": [
    "#3D array\n",
    "\n",
    "array_3d = np.array([[[1,2,3],[5,6,7]],[[10,20,30],[50,60,70]]])\n",
    "print(array_3d)"
   ]
  },
  {
   "cell_type": "code",
   "execution_count": 24,
   "id": "041d6045",
   "metadata": {},
   "outputs": [
    {
     "name": "stdout",
     "output_type": "stream",
     "text": [
      "3\n",
      "(2, 2, 3)\n"
     ]
    }
   ],
   "source": [
    "print(array_3d.ndim)\n",
    "print(array_3d.shape)"
   ]
  },
  {
   "cell_type": "code",
   "execution_count": 27,
   "id": "9fe6694e",
   "metadata": {},
   "outputs": [
    {
     "name": "stdout",
     "output_type": "stream",
     "text": [
      "[0 2 4 6 8]\n",
      "[0.  0.4 0.8 1.2 1.6 2. ]\n"
     ]
    }
   ],
   "source": [
    "# arange\n",
    "array = np.arange(0,10,2)\n",
    "print(array)\n",
    "\n",
    "# linspace\n",
    "\n",
    "linsp = np.linspace(0,2,6)\n",
    "print(linsp)"
   ]
  },
  {
   "cell_type": "code",
   "execution_count": 30,
   "id": "dd9433df",
   "metadata": {},
   "outputs": [
    {
     "data": {
      "text/plain": [
       "array([[1., 1., 1., 1.],\n",
       "       [1., 1., 1., 1.],\n",
       "       [1., 1., 1., 1.]])"
      ]
     },
     "execution_count": 30,
     "metadata": {},
     "output_type": "execute_result"
    }
   ],
   "source": [
    "one_arr = np.ones((3,4))\n",
    "one_arr"
   ]
  },
  {
   "cell_type": "code",
   "execution_count": 31,
   "id": "ad6d012d",
   "metadata": {},
   "outputs": [
    {
     "data": {
      "text/plain": [
       "2"
      ]
     },
     "execution_count": 31,
     "metadata": {},
     "output_type": "execute_result"
    }
   ],
   "source": [
    "one_arr.ndim"
   ]
  },
  {
   "cell_type": "code",
   "execution_count": 32,
   "id": "ddb90484",
   "metadata": {},
   "outputs": [
    {
     "data": {
      "text/plain": [
       "array([[0., 0., 0., 0.],\n",
       "       [0., 0., 0., 0.],\n",
       "       [0., 0., 0., 0.]])"
      ]
     },
     "execution_count": 32,
     "metadata": {},
     "output_type": "execute_result"
    }
   ],
   "source": [
    "zero_arr = np.zeros((3,4))\n",
    "zero_arr"
   ]
  },
  {
   "cell_type": "code",
   "execution_count": 34,
   "id": "37e2ec01",
   "metadata": {},
   "outputs": [
    {
     "data": {
      "text/plain": [
       "array([[1., 0., 0., 0.],\n",
       "       [0., 1., 0., 0.],\n",
       "       [0., 0., 1., 0.],\n",
       "       [0., 0., 0., 1.]])"
      ]
     },
     "execution_count": 34,
     "metadata": {},
     "output_type": "execute_result"
    }
   ],
   "source": [
    "dia = np.eye(4)  #return 2D array in diagonal with 1\n",
    "dia"
   ]
  },
  {
   "cell_type": "code",
   "execution_count": 35,
   "id": "144cc542",
   "metadata": {},
   "outputs": [
    {
     "data": {
      "text/plain": [
       "array([[3, 0, 0, 0],\n",
       "       [0, 9, 0, 0],\n",
       "       [0, 0, 4, 0],\n",
       "       [0, 0, 0, 1]])"
      ]
     },
     "execution_count": 35,
     "metadata": {},
     "output_type": "execute_result"
    }
   ],
   "source": [
    "diago = np.diag([3,9,4,1])  # return array with given diagonal\n",
    "diago"
   ]
  },
  {
   "cell_type": "code",
   "execution_count": 36,
   "id": "abce8564",
   "metadata": {},
   "outputs": [
    {
     "name": "stdout",
     "output_type": "stream",
     "text": [
      "[0.20466887 0.20854086 0.21088353 0.72750272 0.61765624]\n"
     ]
    }
   ],
   "source": [
    "#array Random values\n",
    "\n",
    "rand_arr = np.random.rand(5)\n",
    "print(rand_arr)"
   ]
  },
  {
   "cell_type": "code",
   "execution_count": 37,
   "id": "1debce82",
   "metadata": {},
   "outputs": [
    {
     "name": "stdout",
     "output_type": "stream",
     "text": [
      "[ 0.31830738 -2.18331445  0.93567587 -0.59162181  0.14498012]\n"
     ]
    }
   ],
   "source": [
    "#array Random values  : : Return a sample (or samples) from the \"standard normal\" distribution.\n",
    "\n",
    "rand_arr = np.random.randn(5)   \n",
    "print(rand_arr)"
   ]
  },
  {
   "cell_type": "code",
   "execution_count": 39,
   "id": "284cff0c",
   "metadata": {},
   "outputs": [
    {
     "name": "stdout",
     "output_type": "stream",
     "text": [
      "[49 12 17 57 66 26 48 96 63 99]\n"
     ]
    }
   ],
   "source": [
    "#Return random integers from `low` (inclusive) to `high` (exclusive)\n",
    "rand_arr = np.random.randint(1, 100 , size= 10)\n",
    "print(rand_arr)"
   ]
  },
  {
   "cell_type": "code",
   "execution_count": 41,
   "id": "43e83c9f",
   "metadata": {},
   "outputs": [
    {
     "name": "stdout",
     "output_type": "stream",
     "text": [
      "[0 2 4 6 8]\n"
     ]
    },
    {
     "data": {
      "text/plain": [
       "6"
      ]
     },
     "execution_count": 41,
     "metadata": {},
     "output_type": "execute_result"
    }
   ],
   "source": [
    "#access array via index\n",
    "print(array)\n",
    "array[3]"
   ]
  },
  {
   "cell_type": "code",
   "execution_count": 44,
   "id": "e72b0651",
   "metadata": {},
   "outputs": [
    {
     "name": "stdout",
     "output_type": "stream",
     "text": [
      "[[1 2 3]\n",
      " [5 6 7]]\n"
     ]
    },
    {
     "data": {
      "text/plain": [
       "7"
      ]
     },
     "execution_count": 44,
     "metadata": {},
     "output_type": "execute_result"
    }
   ],
   "source": [
    "print(array_2d)\n",
    "array_2d[1,2]"
   ]
  },
  {
   "cell_type": "code",
   "execution_count": 45,
   "id": "231b8931",
   "metadata": {},
   "outputs": [
    {
     "data": {
      "text/plain": [
       "array([49, 12, 17, 57])"
      ]
     },
     "execution_count": 45,
     "metadata": {},
     "output_type": "execute_result"
    }
   ],
   "source": [
    "#slice \n",
    "rand_arr[:4]"
   ]
  },
  {
   "cell_type": "code",
   "execution_count": 46,
   "id": "5d0ae42a",
   "metadata": {},
   "outputs": [
    {
     "data": {
      "text/plain": [
       "array([12, 57, 26])"
      ]
     },
     "execution_count": 46,
     "metadata": {},
     "output_type": "execute_result"
    }
   ],
   "source": [
    "rand_arr[1:6:2] # startindex:endindex:step"
   ]
  },
  {
   "cell_type": "code",
   "execution_count": 50,
   "id": "e94f7444",
   "metadata": {},
   "outputs": [
    {
     "name": "stdout",
     "output_type": "stream",
     "text": [
      "Array 'a' will be :::   [0 1 2 3 4 5 6 7 8 9]\n",
      "Array 'b' will be :::   [0 2 4 6 8]\n",
      "Does a and b sared memory ::  True\n",
      "Array 'b', after change :::   [10  2  4  6  8]\n",
      "Array 'a', after change 'b' :::   [10  1  2  3  4  5  6  7  8  9]\n"
     ]
    }
   ],
   "source": [
    "#shared memory v/s Copy\n",
    "\n",
    "#shared memory\n",
    "\n",
    "a =np.arange(10)\n",
    "print(\"Array 'a' will be :::  \",a)\n",
    "\n",
    "b = a[::2]\n",
    "print(\"Array 'b' will be :::  \",b)\n",
    "\n",
    "print('Does a and b sared memory :: ',np.shares_memory(a,b))\n",
    "\n",
    "#Proof\n",
    "b[0] = 10\n",
    "\n",
    "print(\"Array 'b', after change :::  \", b)\n",
    "print(\"Array 'a', after change 'b' :::  \", a)"
   ]
  },
  {
   "cell_type": "code",
   "execution_count": 51,
   "id": "ac7e73a3",
   "metadata": {},
   "outputs": [
    {
     "name": "stdout",
     "output_type": "stream",
     "text": [
      "Array 'a' will be :::   [0 1 2 3 4 5 6 7 8 9]\n",
      "Array 'b' will be :::   [0 2 4 6 8]\n",
      "Does a and b sared memory ::  False\n",
      "Array 'b', after change :::   [10  2  4  6  8]\n",
      "Array 'a', after change 'b' :::   [0 1 2 3 4 5 6 7 8 9]\n"
     ]
    }
   ],
   "source": [
    "#copy\n",
    "\n",
    "a =np.arange(10)\n",
    "print(\"Array 'a' will be :::  \",a)\n",
    "\n",
    "b = a[::2].copy()\n",
    "print(\"Array 'b' will be :::  \",b)\n",
    "\n",
    "print('Does a and b sared memory :: ',np.shares_memory(a,b))\n",
    "\n",
    "#Proof\n",
    "b[0] = 10\n",
    "\n",
    "print(\"Array 'b', after change :::  \", b)\n",
    "print(\"Array 'a', after change 'b' :::  \", a)"
   ]
  },
  {
   "cell_type": "code",
   "execution_count": 52,
   "id": "7e1cb039",
   "metadata": {},
   "outputs": [
    {
     "name": "stdout",
     "output_type": "stream",
     "text": [
      "[15 56 94 40 32 96 12 51 54 31 14 82 24 37 70 32 20 72 56 65]\n",
      "[56 94 40 32 96 12 54 14 82 24 70 32 20 72 56]\n"
     ]
    }
   ],
   "source": [
    "# masking \n",
    "a = np.random.randint(1,100,20)\n",
    "print(a)\n",
    "mask = (a % 2 == 0 )\n",
    "print(a[mask])     # fetch those element which divided by 2\n"
   ]
  },
  {
   "cell_type": "code",
   "execution_count": 53,
   "id": "32991e64",
   "metadata": {},
   "outputs": [
    {
     "name": "stdout",
     "output_type": "stream",
     "text": [
      "[15 -1 -1 -1 -1 -1 -1 51 -1 31 -1 -1 -1 37 -1 -1 -1 -1 -1 65]\n"
     ]
    }
   ],
   "source": [
    "a[mask] = -1   # replace those element which divided by 2 with -1\n",
    "print(a)"
   ]
  },
  {
   "cell_type": "code",
   "execution_count": 56,
   "id": "8ea753e8",
   "metadata": {},
   "outputs": [
    {
     "name": "stdout",
     "output_type": "stream",
     "text": [
      "[37 91 45 17 84 24 30 46 62 16 33 89 68 89 87 50 71 41 58 48]\n",
      "[17 45 46 16 91 17 84 84 45 46 91 91]\n"
     ]
    }
   ],
   "source": [
    "# use index\n",
    "\n",
    "a = np.random.randint(1,100,20)\n",
    "print(a)\n",
    "\n",
    "print(a[[3,2,7,9,1,3,4,4,2,7,1,1]])"
   ]
  },
  {
   "cell_type": "code",
   "execution_count": 57,
   "id": "7a717048",
   "metadata": {},
   "outputs": [
    {
     "data": {
      "text/plain": [
       "array([2, 3, 4, 5])"
      ]
     },
     "execution_count": 57,
     "metadata": {},
     "output_type": "execute_result"
    }
   ],
   "source": [
    "# Basic Operation\n",
    "\n",
    "arr = np.array([1,2,3,4])\n",
    "arr+1"
   ]
  },
  {
   "cell_type": "code",
   "execution_count": 58,
   "id": "ac6226c8",
   "metadata": {},
   "outputs": [
    {
     "data": {
      "text/plain": [
       "array([ 1,  4,  9, 16])"
      ]
     },
     "execution_count": 58,
     "metadata": {},
     "output_type": "execute_result"
    }
   ],
   "source": [
    "#multiple (.dot multi)\n",
    "\n",
    "arr2 = np.array([1,2,3,4])\n",
    "\n",
    "arr*arr2"
   ]
  },
  {
   "cell_type": "code",
   "execution_count": 60,
   "id": "874c3c92",
   "metadata": {},
   "outputs": [
    {
     "data": {
      "text/plain": [
       "30"
      ]
     },
     "execution_count": 60,
     "metadata": {},
     "output_type": "execute_result"
    }
   ],
   "source": [
    "#matrix multiplication\n",
    "\n",
    "arr.dot(arr2)  # summation (arr[i]*arr2[i]) where i = 0 to n"
   ]
  },
  {
   "cell_type": "code",
   "execution_count": 63,
   "id": "c2554ab6",
   "metadata": {},
   "outputs": [],
   "source": [
    "A = np.array([[4,9,9],[9,1,6],[9,2,3]])   # 3*3\n",
    "\n",
    "B = np.array([[2,2],[5,7],[4,4]])     #3*2"
   ]
  },
  {
   "cell_type": "code",
   "execution_count": 64,
   "id": "d01e5a62",
   "metadata": {},
   "outputs": [
    {
     "data": {
      "text/plain": [
       "array([[ 89, 107],\n",
       "       [ 47,  49],\n",
       "       [ 40,  44]])"
      ]
     },
     "execution_count": 64,
     "metadata": {},
     "output_type": "execute_result"
    }
   ],
   "source": [
    "#way1\n",
    "np.dot(A,B)"
   ]
  },
  {
   "cell_type": "code",
   "execution_count": 65,
   "id": "08b2f0a6",
   "metadata": {},
   "outputs": [
    {
     "data": {
      "text/plain": [
       "array([[ 89, 107],\n",
       "       [ 47,  49],\n",
       "       [ 40,  44]])"
      ]
     },
     "execution_count": 65,
     "metadata": {},
     "output_type": "execute_result"
    }
   ],
   "source": [
    "#way2\n",
    "np.matmul(A,B)"
   ]
  },
  {
   "cell_type": "code",
   "execution_count": 66,
   "id": "5697a460",
   "metadata": {},
   "outputs": [
    {
     "data": {
      "text/plain": [
       "array([[ 89, 107],\n",
       "       [ 47,  49],\n",
       "       [ 40,  44]])"
      ]
     },
     "execution_count": 66,
     "metadata": {},
     "output_type": "execute_result"
    }
   ],
   "source": [
    "#way3\n",
    "C = A@B\n",
    "C"
   ]
  },
  {
   "cell_type": "code",
   "execution_count": 70,
   "id": "3b73834a",
   "metadata": {},
   "outputs": [
    {
     "data": {
      "text/plain": [
       "array([False,  True, False,  True])"
      ]
     },
     "execution_count": 70,
     "metadata": {},
     "output_type": "execute_result"
    }
   ],
   "source": [
    "# element wise comparision\n",
    "\n",
    "arr1 = np.array([1,2,3,4])\n",
    "arr2 = np.array([9,2,5,4])\n",
    "arr3 = np.array([1,2,3,4])\n",
    "\n",
    "arr1 == arr2"
   ]
  },
  {
   "cell_type": "code",
   "execution_count": 71,
   "id": "9a243221",
   "metadata": {},
   "outputs": [
    {
     "data": {
      "text/plain": [
       "False"
      ]
     },
     "execution_count": 71,
     "metadata": {},
     "output_type": "execute_result"
    }
   ],
   "source": [
    "#array wise comparision\n",
    "\n",
    "np.array_equal(arr1,arr2)"
   ]
  },
  {
   "cell_type": "code",
   "execution_count": 72,
   "id": "ed596e5b",
   "metadata": {},
   "outputs": [
    {
     "data": {
      "text/plain": [
       "True"
      ]
     },
     "execution_count": 72,
     "metadata": {},
     "output_type": "execute_result"
    }
   ],
   "source": [
    "np.array_equal(arr1,arr3)"
   ]
  },
  {
   "cell_type": "code",
   "execution_count": 75,
   "id": "5815b90b",
   "metadata": {},
   "outputs": [
    {
     "data": {
      "text/plain": [
       "array([ True, False,  True,  True])"
      ]
     },
     "execution_count": 75,
     "metadata": {},
     "output_type": "execute_result"
    }
   ],
   "source": [
    "# logical operation\n",
    "arr1 = np.array([1,0,1,0])\n",
    "arr2 = np.array([0,0,1,1])\n",
    "\n",
    "np.logical_or(arr1, arr2)"
   ]
  },
  {
   "cell_type": "code",
   "execution_count": 76,
   "id": "aecee93b",
   "metadata": {},
   "outputs": [
    {
     "data": {
      "text/plain": [
       "array([False, False,  True, False])"
      ]
     },
     "execution_count": 76,
     "metadata": {},
     "output_type": "execute_result"
    }
   ],
   "source": [
    "np.logical_and(arr1, arr2)"
   ]
  },
  {
   "cell_type": "code",
   "execution_count": 77,
   "id": "520a8449",
   "metadata": {},
   "outputs": [],
   "source": [
    "# Summation"
   ]
  },
  {
   "cell_type": "code",
   "execution_count": 78,
   "id": "7faf18e8",
   "metadata": {},
   "outputs": [
    {
     "data": {
      "text/plain": [
       "10"
      ]
     },
     "execution_count": 78,
     "metadata": {},
     "output_type": "execute_result"
    }
   ],
   "source": [
    "arr= np.array([1,2,3,4])    #1D arry\n",
    "\n",
    "np.sum(arr)"
   ]
  },
  {
   "cell_type": "code",
   "execution_count": 85,
   "id": "b07dd76d",
   "metadata": {},
   "outputs": [
    {
     "name": "stdout",
     "output_type": "stream",
     "text": [
      "28\n",
      "[8 5 6 9]\n",
      "[17 11]\n"
     ]
    }
   ],
   "source": [
    "arr= np.array([[7,3,3,4],[1,2,3,5]])   #2D array\n",
    "\n",
    "print(np.sum(arr))   # all element sum\n",
    "\n",
    "print(np.sum(arr, axis = 0))   # all element sum col-wise\n",
    "\n",
    "print(np.sum(arr, axis = 1))   # all element sum row-wise"
   ]
  },
  {
   "cell_type": "code",
   "execution_count": 90,
   "id": "5332c954",
   "metadata": {},
   "outputs": [
    {
     "name": "stdout",
     "output_type": "stream",
     "text": [
      "All element min-max\n",
      "1\n",
      "7\n",
      "row-wise element min-max\n",
      "[3 1]\n",
      "[7 5]\n",
      "col-wise element min-max\n",
      "[1 2 3 4]\n",
      "[7 3 3 5]\n"
     ]
    }
   ],
   "source": [
    "# min-max\n",
    "\n",
    "# all element\n",
    "print(\"All element min-max\")\n",
    "print(arr.min())   \n",
    "print(arr.max())\n",
    "\n",
    "# rol-wise\n",
    "print(\"row-wise element min-max\")\n",
    "print(arr.min(axis =1))\n",
    "print(arr.max(axis =1))\n",
    "\n",
    "# rol-wise\n",
    "print(\"col-wise element min-max\")\n",
    "print(arr.min(axis =0))\n",
    "print(arr.max(axis =0))"
   ]
  },
  {
   "cell_type": "code",
   "execution_count": 91,
   "id": "c5bbe44e",
   "metadata": {},
   "outputs": [
    {
     "name": "stdout",
     "output_type": "stream",
     "text": [
      "0\n",
      "4\n"
     ]
    }
   ],
   "source": [
    "# Index of min-max\n",
    "\n",
    "print(arr.argmax())\n",
    "print(arr.argmin())"
   ]
  },
  {
   "cell_type": "code",
   "execution_count": 99,
   "id": "983e9dcf",
   "metadata": {},
   "outputs": [
    {
     "name": "stdout",
     "output_type": "stream",
     "text": [
      "MEAN  ::   3.5\n",
      "MEDIAN ::   3.0\n",
      "STD DERIVA  ::   1.7320508075688772\n",
      "VARIANCE  ::   3.0\n",
      "MEAN  ::   [4.  2.5 3.  4.5]\n",
      "MEDIAN ::   [4.  2.5 3.  4.5]\n",
      "STD DERIVA  ::   [3.  0.5 0.  0.5]\n",
      "STD DERIVA  ::   [9.   0.25 0.   0.25]\n"
     ]
    }
   ],
   "source": [
    "#Basic stats \n",
    "\n",
    "print(\"MEAN  ::  \",np.mean(arr))\n",
    "print(\"MEDIAN ::  \",np.median(arr))\n",
    "print(\"STD DERIVA  ::  \",np.std(arr))\n",
    "print(\"VARIANCE  ::  \",np.var(arr))\n",
    "\n",
    "\n",
    "print(\"MEAN  ::  \",np.mean(arr, axis = 0))\n",
    "print(\"MEDIAN ::  \",np.median(arr, axis = 0))\n",
    "print(\"STD DERIVA  ::  \",np.std(arr, axis = 0))\n",
    "print(\"STD DERIVA  ::  \",np.var(arr, axis = 0))"
   ]
  },
  {
   "cell_type": "code",
   "execution_count": 114,
   "id": "82682ca8",
   "metadata": {},
   "outputs": [
    {
     "name": "stdout",
     "output_type": "stream",
     "text": [
      "[0 1 2 3 4 5 6 7 8 9]\n",
      "(10,)\n"
     ]
    }
   ],
   "source": [
    "# Re - Shape array\n",
    "\n",
    "a = np.arange(0,10,1)\n",
    "print(a)\n",
    "\n",
    "print(a.shape)"
   ]
  },
  {
   "cell_type": "code",
   "execution_count": 115,
   "id": "bd8a47cf",
   "metadata": {},
   "outputs": [
    {
     "name": "stdout",
     "output_type": "stream",
     "text": [
      "[[0 1 2 3 4]\n",
      " [5 6 7 8 9]]\n",
      "(2, 5)\n"
     ]
    }
   ],
   "source": [
    "a_2d = a.reshape(2,5)\n",
    "print(a_2d)\n",
    "\n",
    "print(a_2d.shape)"
   ]
  },
  {
   "cell_type": "code",
   "execution_count": 117,
   "id": "f1339ae9",
   "metadata": {},
   "outputs": [
    {
     "name": "stdout",
     "output_type": "stream",
     "text": [
      "[[0]\n",
      " [1]\n",
      " [2]\n",
      " [3]\n",
      " [4]\n",
      " [5]\n",
      " [6]\n",
      " [7]\n",
      " [8]\n",
      " [9]]\n",
      "(10, 1)\n",
      "[[0 1 2 3 4 5 6 7 8 9]]\n",
      "(1, 10)\n"
     ]
    }
   ],
   "source": [
    "a_newaxis = a[: , np.newaxis]\n",
    "print(a_newaxis)\n",
    "\n",
    "print(a_newaxis.shape)\n",
    "\n",
    "\n",
    "a_newaxis = a[np.newaxis, :]\n",
    "print(a_newaxis)\n",
    "\n",
    "print(a_newaxis.shape)"
   ]
  },
  {
   "cell_type": "code",
   "execution_count": 118,
   "id": "46d57270",
   "metadata": {},
   "outputs": [
    {
     "name": "stdout",
     "output_type": "stream",
     "text": [
      "[[1 8 3]\n",
      " [5 7 2]]\n",
      "(2, 3)\n",
      "[1 8 3 5 7 2]\n",
      "(6,)\n"
     ]
    }
   ],
   "source": [
    "arr_2d = np.array([[1,8,3],[5,7,2]])\n",
    "print(arr_2d)\n",
    "print(arr_2d.shape)\n",
    "\n",
    "\n",
    "# Ravel\n",
    "\n",
    "new_arr = arr_2d.ravel()    # flatten 2-D array to 1-D\n",
    "print(new_arr)\n",
    "print(new_arr.shape)\n"
   ]
  },
  {
   "cell_type": "code",
   "execution_count": 119,
   "id": "21700011",
   "metadata": {},
   "outputs": [
    {
     "data": {
      "text/plain": [
       "array([0, 3, 4, 6, 7, 9])"
      ]
     },
     "execution_count": 119,
     "metadata": {},
     "output_type": "execute_result"
    }
   ],
   "source": [
    "# Sorting \n",
    "arr =np.array([7,3,9,4,6,0])\n",
    "\n",
    "np.sort(arr)"
   ]
  },
  {
   "cell_type": "code",
   "execution_count": 121,
   "id": "a1b0ac21",
   "metadata": {},
   "outputs": [
    {
     "data": {
      "text/plain": [
       "array([5, 1, 3, 4, 0, 2], dtype=int64)"
      ]
     },
     "execution_count": 121,
     "metadata": {},
     "output_type": "execute_result"
    }
   ],
   "source": [
    "sorted_index = np.argsort(arr)\n",
    "sorted_index"
   ]
  },
  {
   "cell_type": "code",
   "execution_count": 122,
   "id": "21e2443f",
   "metadata": {},
   "outputs": [
    {
     "data": {
      "text/plain": [
       "array([0, 3, 4, 6, 7, 9])"
      ]
     },
     "execution_count": 122,
     "metadata": {},
     "output_type": "execute_result"
    }
   ],
   "source": [
    "arr[sorted_index]"
   ]
  },
  {
   "cell_type": "code",
   "execution_count": null,
   "id": "9d1d4c4b",
   "metadata": {},
   "outputs": [],
   "source": []
  }
 ],
 "metadata": {
  "kernelspec": {
   "display_name": "Python 3 (ipykernel)",
   "language": "python",
   "name": "python3"
  },
  "language_info": {
   "codemirror_mode": {
    "name": "ipython",
    "version": 3
   },
   "file_extension": ".py",
   "mimetype": "text/x-python",
   "name": "python",
   "nbconvert_exporter": "python",
   "pygments_lexer": "ipython3",
   "version": "3.10.9"
  }
 },
 "nbformat": 4,
 "nbformat_minor": 5
}

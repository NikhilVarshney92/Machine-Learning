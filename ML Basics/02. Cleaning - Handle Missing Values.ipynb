{
 "cells": [
  {
   "cell_type": "code",
   "execution_count": 1,
   "id": "ab33d3b8",
   "metadata": {},
   "outputs": [],
   "source": [
    "#Basic imports\n",
    "\n",
    "import pandas as pd\n",
    "import numpy as np\n",
    "from sklearn.impute import SimpleImputer, KNNImputer\n",
    "import seaborn as sns"
   ]
  },
  {
   "cell_type": "code",
   "execution_count": 2,
   "id": "f43295f0",
   "metadata": {},
   "outputs": [],
   "source": [
    "data = [{'Name': 'Nikhil', 'Experience': 10, 'Salary': 800000},\n",
    "       {'Name': 'Nikhil', 'Experience': 14, 'Salary': 850000},\n",
    "       {'Name': 'Nikhil', 'Experience': 17},\n",
    "       {'Name': 'Nikhil', 'Experience': 25, 'Salary': 1100000},\n",
    "       {'Name': 'Nikhil', 'Experience': 5, 'Salary': 80000},\n",
    "       {'Name': 'Nikhil', 'Experience': 30},\n",
    "       {'Name': 'Nikhil', 'Experience': 34, 'Salary': 1300000},\n",
    "       {'Name': 'Nikhil', 'Experience': 40},\n",
    "        {'Name': 'Nikhil', 'Experience': 32, 'Salary': 1300000},\n",
    "       ]\n",
    "\n",
    "df_salary = pd.DataFrame(data, columns=['Name','Experience','Salary'])"
   ]
  },
  {
   "cell_type": "code",
   "execution_count": 3,
   "id": "494695f8",
   "metadata": {},
   "outputs": [],
   "source": [
    "df_sal_copy = df_salary.copy()"
   ]
  },
  {
   "cell_type": "code",
   "execution_count": 4,
   "id": "757919bd",
   "metadata": {},
   "outputs": [
    {
     "data": {
      "text/html": [
       "<div>\n",
       "<style scoped>\n",
       "    .dataframe tbody tr th:only-of-type {\n",
       "        vertical-align: middle;\n",
       "    }\n",
       "\n",
       "    .dataframe tbody tr th {\n",
       "        vertical-align: top;\n",
       "    }\n",
       "\n",
       "    .dataframe thead th {\n",
       "        text-align: right;\n",
       "    }\n",
       "</style>\n",
       "<table border=\"1\" class=\"dataframe\">\n",
       "  <thead>\n",
       "    <tr style=\"text-align: right;\">\n",
       "      <th></th>\n",
       "      <th>Name</th>\n",
       "      <th>Experience</th>\n",
       "      <th>Salary</th>\n",
       "    </tr>\n",
       "  </thead>\n",
       "  <tbody>\n",
       "    <tr>\n",
       "      <th>0</th>\n",
       "      <td>Nikhil</td>\n",
       "      <td>10</td>\n",
       "      <td>800000.0</td>\n",
       "    </tr>\n",
       "    <tr>\n",
       "      <th>1</th>\n",
       "      <td>Nikhil</td>\n",
       "      <td>14</td>\n",
       "      <td>850000.0</td>\n",
       "    </tr>\n",
       "    <tr>\n",
       "      <th>2</th>\n",
       "      <td>Nikhil</td>\n",
       "      <td>17</td>\n",
       "      <td>NaN</td>\n",
       "    </tr>\n",
       "    <tr>\n",
       "      <th>3</th>\n",
       "      <td>Nikhil</td>\n",
       "      <td>25</td>\n",
       "      <td>1100000.0</td>\n",
       "    </tr>\n",
       "    <tr>\n",
       "      <th>4</th>\n",
       "      <td>Nikhil</td>\n",
       "      <td>5</td>\n",
       "      <td>80000.0</td>\n",
       "    </tr>\n",
       "    <tr>\n",
       "      <th>5</th>\n",
       "      <td>Nikhil</td>\n",
       "      <td>30</td>\n",
       "      <td>NaN</td>\n",
       "    </tr>\n",
       "    <tr>\n",
       "      <th>6</th>\n",
       "      <td>Nikhil</td>\n",
       "      <td>34</td>\n",
       "      <td>1300000.0</td>\n",
       "    </tr>\n",
       "    <tr>\n",
       "      <th>7</th>\n",
       "      <td>Nikhil</td>\n",
       "      <td>40</td>\n",
       "      <td>NaN</td>\n",
       "    </tr>\n",
       "    <tr>\n",
       "      <th>8</th>\n",
       "      <td>Nikhil</td>\n",
       "      <td>32</td>\n",
       "      <td>1300000.0</td>\n",
       "    </tr>\n",
       "  </tbody>\n",
       "</table>\n",
       "</div>"
      ],
      "text/plain": [
       "     Name  Experience     Salary\n",
       "0  Nikhil          10   800000.0\n",
       "1  Nikhil          14   850000.0\n",
       "2  Nikhil          17        NaN\n",
       "3  Nikhil          25  1100000.0\n",
       "4  Nikhil           5    80000.0\n",
       "5  Nikhil          30        NaN\n",
       "6  Nikhil          34  1300000.0\n",
       "7  Nikhil          40        NaN\n",
       "8  Nikhil          32  1300000.0"
      ]
     },
     "execution_count": 4,
     "metadata": {},
     "output_type": "execute_result"
    }
   ],
   "source": [
    "df_sal_copy"
   ]
  },
  {
   "cell_type": "code",
   "execution_count": 5,
   "id": "71a8c2a8",
   "metadata": {},
   "outputs": [],
   "source": [
    "# Simple Imputer is descriptive statistics filler. Strategy can be 'mean', 'median', 'mode' and 'Constant'.\n",
    "# param 'missing values' defines what the value present in df which we going to fill with strategy.\n",
    "# If we use strategy 'constant' we need another param called 'fill_value'\n",
    "\n",
    "imputer = SimpleImputer(missing_values= np.nan, strategy='mean')\n",
    "X = df_sal_copy[['Salary','Experience']]\n",
    "updated_X = imputer.fit_transform(X)"
   ]
  },
  {
   "cell_type": "code",
   "execution_count": 6,
   "id": "30c16b15",
   "metadata": {},
   "outputs": [
    {
     "data": {
      "text/html": [
       "<div>\n",
       "<style scoped>\n",
       "    .dataframe tbody tr th:only-of-type {\n",
       "        vertical-align: middle;\n",
       "    }\n",
       "\n",
       "    .dataframe tbody tr th {\n",
       "        vertical-align: top;\n",
       "    }\n",
       "\n",
       "    .dataframe thead th {\n",
       "        text-align: right;\n",
       "    }\n",
       "</style>\n",
       "<table border=\"1\" class=\"dataframe\">\n",
       "  <thead>\n",
       "    <tr style=\"text-align: right;\">\n",
       "      <th></th>\n",
       "      <th>Name</th>\n",
       "      <th>Experience</th>\n",
       "      <th>Salary</th>\n",
       "    </tr>\n",
       "  </thead>\n",
       "  <tbody>\n",
       "    <tr>\n",
       "      <th>0</th>\n",
       "      <td>Nikhil</td>\n",
       "      <td>10.0</td>\n",
       "      <td>800000.0</td>\n",
       "    </tr>\n",
       "    <tr>\n",
       "      <th>1</th>\n",
       "      <td>Nikhil</td>\n",
       "      <td>14.0</td>\n",
       "      <td>850000.0</td>\n",
       "    </tr>\n",
       "    <tr>\n",
       "      <th>2</th>\n",
       "      <td>Nikhil</td>\n",
       "      <td>17.0</td>\n",
       "      <td>905000.0</td>\n",
       "    </tr>\n",
       "    <tr>\n",
       "      <th>3</th>\n",
       "      <td>Nikhil</td>\n",
       "      <td>25.0</td>\n",
       "      <td>1100000.0</td>\n",
       "    </tr>\n",
       "    <tr>\n",
       "      <th>4</th>\n",
       "      <td>Nikhil</td>\n",
       "      <td>5.0</td>\n",
       "      <td>80000.0</td>\n",
       "    </tr>\n",
       "    <tr>\n",
       "      <th>5</th>\n",
       "      <td>Nikhil</td>\n",
       "      <td>30.0</td>\n",
       "      <td>905000.0</td>\n",
       "    </tr>\n",
       "    <tr>\n",
       "      <th>6</th>\n",
       "      <td>Nikhil</td>\n",
       "      <td>34.0</td>\n",
       "      <td>1300000.0</td>\n",
       "    </tr>\n",
       "    <tr>\n",
       "      <th>7</th>\n",
       "      <td>Nikhil</td>\n",
       "      <td>40.0</td>\n",
       "      <td>905000.0</td>\n",
       "    </tr>\n",
       "    <tr>\n",
       "      <th>8</th>\n",
       "      <td>Nikhil</td>\n",
       "      <td>32.0</td>\n",
       "      <td>1300000.0</td>\n",
       "    </tr>\n",
       "  </tbody>\n",
       "</table>\n",
       "</div>"
      ],
      "text/plain": [
       "     Name  Experience     Salary\n",
       "0  Nikhil        10.0   800000.0\n",
       "1  Nikhil        14.0   850000.0\n",
       "2  Nikhil        17.0   905000.0\n",
       "3  Nikhil        25.0  1100000.0\n",
       "4  Nikhil         5.0    80000.0\n",
       "5  Nikhil        30.0   905000.0\n",
       "6  Nikhil        34.0  1300000.0\n",
       "7  Nikhil        40.0   905000.0\n",
       "8  Nikhil        32.0  1300000.0"
      ]
     },
     "execution_count": 6,
     "metadata": {},
     "output_type": "execute_result"
    }
   ],
   "source": [
    "df_sal_copy[['Salary','Experience']] = updated_X\n",
    "df_sal_copy"
   ]
  },
  {
   "cell_type": "code",
   "execution_count": 7,
   "id": "dfd8e2cc",
   "metadata": {},
   "outputs": [
    {
     "data": {
      "text/html": [
       "<div>\n",
       "<style scoped>\n",
       "    .dataframe tbody tr th:only-of-type {\n",
       "        vertical-align: middle;\n",
       "    }\n",
       "\n",
       "    .dataframe tbody tr th {\n",
       "        vertical-align: top;\n",
       "    }\n",
       "\n",
       "    .dataframe thead th {\n",
       "        text-align: right;\n",
       "    }\n",
       "</style>\n",
       "<table border=\"1\" class=\"dataframe\">\n",
       "  <thead>\n",
       "    <tr style=\"text-align: right;\">\n",
       "      <th></th>\n",
       "      <th>Name</th>\n",
       "      <th>Experience</th>\n",
       "      <th>Salary</th>\n",
       "    </tr>\n",
       "  </thead>\n",
       "  <tbody>\n",
       "    <tr>\n",
       "      <th>0</th>\n",
       "      <td>Nikhil</td>\n",
       "      <td>10.0</td>\n",
       "      <td>800000.0</td>\n",
       "    </tr>\n",
       "    <tr>\n",
       "      <th>1</th>\n",
       "      <td>Nikhil</td>\n",
       "      <td>14.0</td>\n",
       "      <td>850000.0</td>\n",
       "    </tr>\n",
       "    <tr>\n",
       "      <th>2</th>\n",
       "      <td>Nikhil</td>\n",
       "      <td>17.0</td>\n",
       "      <td>0.0</td>\n",
       "    </tr>\n",
       "    <tr>\n",
       "      <th>3</th>\n",
       "      <td>Nikhil</td>\n",
       "      <td>25.0</td>\n",
       "      <td>1100000.0</td>\n",
       "    </tr>\n",
       "    <tr>\n",
       "      <th>4</th>\n",
       "      <td>Nikhil</td>\n",
       "      <td>5.0</td>\n",
       "      <td>80000.0</td>\n",
       "    </tr>\n",
       "    <tr>\n",
       "      <th>5</th>\n",
       "      <td>Nikhil</td>\n",
       "      <td>30.0</td>\n",
       "      <td>0.0</td>\n",
       "    </tr>\n",
       "    <tr>\n",
       "      <th>6</th>\n",
       "      <td>Nikhil</td>\n",
       "      <td>34.0</td>\n",
       "      <td>1300000.0</td>\n",
       "    </tr>\n",
       "    <tr>\n",
       "      <th>7</th>\n",
       "      <td>Nikhil</td>\n",
       "      <td>40.0</td>\n",
       "      <td>0.0</td>\n",
       "    </tr>\n",
       "    <tr>\n",
       "      <th>8</th>\n",
       "      <td>Nikhil</td>\n",
       "      <td>32.0</td>\n",
       "      <td>1300000.0</td>\n",
       "    </tr>\n",
       "  </tbody>\n",
       "</table>\n",
       "</div>"
      ],
      "text/plain": [
       "     Name  Experience     Salary\n",
       "0  Nikhil        10.0   800000.0\n",
       "1  Nikhil        14.0   850000.0\n",
       "2  Nikhil        17.0        0.0\n",
       "3  Nikhil        25.0  1100000.0\n",
       "4  Nikhil         5.0    80000.0\n",
       "5  Nikhil        30.0        0.0\n",
       "6  Nikhil        34.0  1300000.0\n",
       "7  Nikhil        40.0        0.0\n",
       "8  Nikhil        32.0  1300000.0"
      ]
     },
     "execution_count": 7,
     "metadata": {},
     "output_type": "execute_result"
    }
   ],
   "source": [
    "df_sal_copy = df_salary.copy()\n",
    "imputer = SimpleImputer(missing_values= np.nan, strategy='constant', fill_value= 0)   # For STRING Column we used STRING values.\n",
    "X = df_sal_copy[['Salary','Experience']]\n",
    "updated_X = imputer.fit_transform(X)\n",
    "\n",
    "df_sal_copy[['Salary','Experience']] = updated_X\n",
    "df_sal_copy"
   ]
  },
  {
   "cell_type": "code",
   "execution_count": 8,
   "id": "57784ed1",
   "metadata": {},
   "outputs": [
    {
     "data": {
      "text/html": [
       "<div>\n",
       "<style scoped>\n",
       "    .dataframe tbody tr th:only-of-type {\n",
       "        vertical-align: middle;\n",
       "    }\n",
       "\n",
       "    .dataframe tbody tr th {\n",
       "        vertical-align: top;\n",
       "    }\n",
       "\n",
       "    .dataframe thead th {\n",
       "        text-align: right;\n",
       "    }\n",
       "</style>\n",
       "<table border=\"1\" class=\"dataframe\">\n",
       "  <thead>\n",
       "    <tr style=\"text-align: right;\">\n",
       "      <th></th>\n",
       "      <th>Name</th>\n",
       "      <th>Experience</th>\n",
       "      <th>Salary</th>\n",
       "    </tr>\n",
       "  </thead>\n",
       "  <tbody>\n",
       "    <tr>\n",
       "      <th>0</th>\n",
       "      <td>Nikhil</td>\n",
       "      <td>10.0</td>\n",
       "      <td>8.000000e+05</td>\n",
       "    </tr>\n",
       "    <tr>\n",
       "      <th>1</th>\n",
       "      <td>Nikhil</td>\n",
       "      <td>14.0</td>\n",
       "      <td>8.500000e+05</td>\n",
       "    </tr>\n",
       "    <tr>\n",
       "      <th>2</th>\n",
       "      <td>Nikhil</td>\n",
       "      <td>17.0</td>\n",
       "      <td>9.166667e+05</td>\n",
       "    </tr>\n",
       "    <tr>\n",
       "      <th>3</th>\n",
       "      <td>Nikhil</td>\n",
       "      <td>25.0</td>\n",
       "      <td>1.100000e+06</td>\n",
       "    </tr>\n",
       "    <tr>\n",
       "      <th>4</th>\n",
       "      <td>Nikhil</td>\n",
       "      <td>5.0</td>\n",
       "      <td>8.000000e+04</td>\n",
       "    </tr>\n",
       "    <tr>\n",
       "      <th>5</th>\n",
       "      <td>Nikhil</td>\n",
       "      <td>30.0</td>\n",
       "      <td>1.233333e+06</td>\n",
       "    </tr>\n",
       "    <tr>\n",
       "      <th>6</th>\n",
       "      <td>Nikhil</td>\n",
       "      <td>34.0</td>\n",
       "      <td>1.300000e+06</td>\n",
       "    </tr>\n",
       "    <tr>\n",
       "      <th>7</th>\n",
       "      <td>Nikhil</td>\n",
       "      <td>40.0</td>\n",
       "      <td>1.233333e+06</td>\n",
       "    </tr>\n",
       "    <tr>\n",
       "      <th>8</th>\n",
       "      <td>Nikhil</td>\n",
       "      <td>32.0</td>\n",
       "      <td>1.300000e+06</td>\n",
       "    </tr>\n",
       "  </tbody>\n",
       "</table>\n",
       "</div>"
      ],
      "text/plain": [
       "     Name  Experience        Salary\n",
       "0  Nikhil        10.0  8.000000e+05\n",
       "1  Nikhil        14.0  8.500000e+05\n",
       "2  Nikhil        17.0  9.166667e+05\n",
       "3  Nikhil        25.0  1.100000e+06\n",
       "4  Nikhil         5.0  8.000000e+04\n",
       "5  Nikhil        30.0  1.233333e+06\n",
       "6  Nikhil        34.0  1.300000e+06\n",
       "7  Nikhil        40.0  1.233333e+06\n",
       "8  Nikhil        32.0  1.300000e+06"
      ]
     },
     "execution_count": 8,
     "metadata": {},
     "output_type": "execute_result"
    }
   ],
   "source": [
    "#Each sample’s missing values are imputed using the mean value from n_neighbors nearest neighbors found in the training set.\n",
    "# Two samples are close if the features that neither is missing are close.\n",
    "\n",
    "df_sal_copy = df_salary.copy()\n",
    "imputer = KNNImputer(n_neighbors=3)\n",
    "X = df_sal_copy[['Salary','Experience']]\n",
    "updated_X = imputer.fit_transform(X)\n",
    "\n",
    "df_sal_copy[['Salary','Experience']] = updated_X\n",
    "df_sal_copy"
   ]
  },
  {
   "cell_type": "code",
   "execution_count": 9,
   "id": "0301ae40",
   "metadata": {},
   "outputs": [
    {
     "data": {
      "text/plain": [
       "0     800000.0\n",
       "1     850000.0\n",
       "2    1100000.0\n",
       "3    1100000.0\n",
       "4      80000.0\n",
       "5    1300000.0\n",
       "6    1300000.0\n",
       "7    1300000.0\n",
       "8    1300000.0\n",
       "Name: Salary, dtype: float64"
      ]
     },
     "execution_count": 9,
     "metadata": {},
     "output_type": "execute_result"
    }
   ],
   "source": [
    "# When we know our data is sequential we can methods like bfill ,ffill , fillna\n",
    "\n",
    "df_sal_copy = df_salary.copy()\n",
    "df_sal_copy['Salary'].bfill()"
   ]
  },
  {
   "cell_type": "code",
   "execution_count": 10,
   "id": "dd4a648d",
   "metadata": {},
   "outputs": [
    {
     "data": {
      "text/plain": [
       "0     800000.0\n",
       "1     850000.0\n",
       "2     850000.0\n",
       "3    1100000.0\n",
       "4      80000.0\n",
       "5      80000.0\n",
       "6    1300000.0\n",
       "7    1300000.0\n",
       "8    1300000.0\n",
       "Name: Salary, dtype: float64"
      ]
     },
     "execution_count": 10,
     "metadata": {},
     "output_type": "execute_result"
    }
   ],
   "source": [
    "df_sal_copy['Salary'].ffill()"
   ]
  },
  {
   "cell_type": "code",
   "execution_count": 11,
   "id": "6987b872",
   "metadata": {},
   "outputs": [
    {
     "data": {
      "text/plain": [
       "0     800000.0\n",
       "1     850000.0\n",
       "2          0.0\n",
       "3    1100000.0\n",
       "4      80000.0\n",
       "5          0.0\n",
       "6    1300000.0\n",
       "7          0.0\n",
       "8    1300000.0\n",
       "Name: Salary, dtype: float64"
      ]
     },
     "execution_count": 11,
     "metadata": {},
     "output_type": "execute_result"
    }
   ],
   "source": [
    "df_sal_copy['Salary'].fillna(value= 0)"
   ]
  },
  {
   "cell_type": "code",
   "execution_count": 12,
   "id": "30a88af5",
   "metadata": {},
   "outputs": [
    {
     "data": {
      "text/plain": [
       "0     800000.0\n",
       "1     850000.0\n",
       "2        100.0\n",
       "3    1100000.0\n",
       "4      80000.0\n",
       "5        100.0\n",
       "6    1300000.0\n",
       "7        100.0\n",
       "8    1300000.0\n",
       "Name: Salary, dtype: float64"
      ]
     },
     "execution_count": 12,
     "metadata": {},
     "output_type": "execute_result"
    }
   ],
   "source": [
    "df_sal_copy['Salary'].replace(np.nan, 100)"
   ]
  },
  {
   "cell_type": "code",
   "execution_count": 13,
   "id": "8eb99955",
   "metadata": {},
   "outputs": [
    {
     "data": {
      "text/plain": [
       "<AxesSubplot:>"
      ]
     },
     "execution_count": 13,
     "metadata": {},
     "output_type": "execute_result"
    },
    {
     "data": {
      "image/png": "[encoded data removed]",
      "text/plain": [
       "<Figure size 432x288 with 1 Axes>"
      ]
     },
     "metadata": {
      "needs_background": "light"
     },
     "output_type": "display_data"
    }
   ],
   "source": [
    "# Interpolate    use param 'method' we do bfill, ffill etc., from here..\n",
    "# if we know our data i.e., values are in linear , quardatic, cubic , spinal etc., we give this as params in 'method'. \n",
    "\n",
    "new_df = pd.DataFrame([2,4,6,8,np.nan,12,14,np.nan,np.nan,20,22,24,26], columns=['Data'])\n",
    "new_df.plot()"
   ]
  },
  {
   "cell_type": "code",
   "execution_count": 14,
   "id": "bae4783a",
   "metadata": {},
   "outputs": [
    {
     "data": {
      "text/plain": [
       "<AxesSubplot:>"
      ]
     },
     "execution_count": 14,
     "metadata": {},
     "output_type": "execute_result"
    },
    {
     "data": {
      "image/png": "[encoded data removed]",
      "text/plain": [
       "<Figure size 432x288 with 1 Axes>"
      ]
     },
     "metadata": {
      "needs_background": "light"
     },
     "output_type": "display_data"
    }
   ],
   "source": [
    "new_df['Data'].interpolate(method = 'linear', inplace = True)\n",
    "new_df.plot()"
   ]
  },
  {
   "cell_type": "code",
   "execution_count": 15,
   "id": "75f6af88",
   "metadata": {},
   "outputs": [
    {
     "data": {
      "text/plain": [
       "<AxesSubplot:>"
      ]
     },
     "execution_count": 15,
     "metadata": {},
     "output_type": "execute_result"
    },
    {
     "data": {
      "image/png": "[encoded data removed]",
      "text/plain": [
       "<Figure size 432x288 with 1 Axes>"
      ]
     },
     "metadata": {
      "needs_background": "light"
     },
     "output_type": "display_data"
    }
   ],
   "source": [
    "new_df = pd.DataFrame([2,4,8,np.nan,32,64,128,np.nan,np.nan,512,1024,2048,4096] , columns=['Data'])\n",
    "new_df.plot()"
   ]
  },
  {
   "cell_type": "code",
   "execution_count": 16,
   "id": "69dbda9d",
   "metadata": {},
   "outputs": [
    {
     "data": {
      "text/plain": [
       "<AxesSubplot:>"
      ]
     },
     "execution_count": 16,
     "metadata": {},
     "output_type": "execute_result"
    },
    {
     "data": {
      "image/png": "[encoded data removed]",
      "text/plain": [
       "<Figure size 432x288 with 1 Axes>"
      ]
     },
     "metadata": {
      "needs_background": "light"
     },
     "output_type": "display_data"
    }
   ],
   "source": [
    "df_copy = new_df.copy()\n",
    "df_copy['Data'] = df_copy['Data'].interpolate(method = 'linear')\n",
    "df_copy.plot()"
   ]
  },
  {
   "cell_type": "code",
   "execution_count": 17,
   "id": "49453251",
   "metadata": {},
   "outputs": [
    {
     "data": {
      "text/html": [
       "<div>\n",
       "<style scoped>\n",
       "    .dataframe tbody tr th:only-of-type {\n",
       "        vertical-align: middle;\n",
       "    }\n",
       "\n",
       "    .dataframe tbody tr th {\n",
       "        vertical-align: top;\n",
       "    }\n",
       "\n",
       "    .dataframe thead th {\n",
       "        text-align: right;\n",
       "    }\n",
       "</style>\n",
       "<table border=\"1\" class=\"dataframe\">\n",
       "  <thead>\n",
       "    <tr style=\"text-align: right;\">\n",
       "      <th></th>\n",
       "      <th>Data</th>\n",
       "    </tr>\n",
       "  </thead>\n",
       "  <tbody>\n",
       "    <tr>\n",
       "      <th>0</th>\n",
       "      <td>2.0</td>\n",
       "    </tr>\n",
       "    <tr>\n",
       "      <th>1</th>\n",
       "      <td>4.0</td>\n",
       "    </tr>\n",
       "    <tr>\n",
       "      <th>2</th>\n",
       "      <td>8.0</td>\n",
       "    </tr>\n",
       "    <tr>\n",
       "      <th>3</th>\n",
       "      <td>20.0</td>\n",
       "    </tr>\n",
       "    <tr>\n",
       "      <th>4</th>\n",
       "      <td>32.0</td>\n",
       "    </tr>\n",
       "    <tr>\n",
       "      <th>5</th>\n",
       "      <td>64.0</td>\n",
       "    </tr>\n",
       "    <tr>\n",
       "      <th>6</th>\n",
       "      <td>128.0</td>\n",
       "    </tr>\n",
       "    <tr>\n",
       "      <th>7</th>\n",
       "      <td>256.0</td>\n",
       "    </tr>\n",
       "    <tr>\n",
       "      <th>8</th>\n",
       "      <td>384.0</td>\n",
       "    </tr>\n",
       "    <tr>\n",
       "      <th>9</th>\n",
       "      <td>512.0</td>\n",
       "    </tr>\n",
       "    <tr>\n",
       "      <th>10</th>\n",
       "      <td>1024.0</td>\n",
       "    </tr>\n",
       "    <tr>\n",
       "      <th>11</th>\n",
       "      <td>2048.0</td>\n",
       "    </tr>\n",
       "    <tr>\n",
       "      <th>12</th>\n",
       "      <td>4096.0</td>\n",
       "    </tr>\n",
       "  </tbody>\n",
       "</table>\n",
       "</div>"
      ],
      "text/plain": [
       "      Data\n",
       "0      2.0\n",
       "1      4.0\n",
       "2      8.0\n",
       "3     20.0\n",
       "4     32.0\n",
       "5     64.0\n",
       "6    128.0\n",
       "7    256.0\n",
       "8    384.0\n",
       "9    512.0\n",
       "10  1024.0\n",
       "11  2048.0\n",
       "12  4096.0"
      ]
     },
     "execution_count": 17,
     "metadata": {},
     "output_type": "execute_result"
    }
   ],
   "source": [
    "df_copy"
   ]
  },
  {
   "cell_type": "code",
   "execution_count": 18,
   "id": "3e8da04a",
   "metadata": {},
   "outputs": [
    {
     "data": {
      "text/plain": [
       "<AxesSubplot:>"
      ]
     },
     "execution_count": 18,
     "metadata": {},
     "output_type": "execute_result"
    },
    {
     "data": {
      "image/png": "[encoded data removed]",
      "text/plain": [
       "<Figure size 432x288 with 1 Axes>"
      ]
     },
     "metadata": {
      "needs_background": "light"
     },
     "output_type": "display_data"
    }
   ],
   "source": [
    "df_copy = new_df.copy()\n",
    "df_copy['Data'] = df_copy['Data'].interpolate(method = 'quadratic', order= 2)\n",
    "df_copy.plot()"
   ]
  },
  {
   "cell_type": "code",
   "execution_count": 19,
   "id": "e7bf4dc4",
   "metadata": {},
   "outputs": [
    {
     "data": {
      "text/html": [
       "<div>\n",
       "<style scoped>\n",
       "    .dataframe tbody tr th:only-of-type {\n",
       "        vertical-align: middle;\n",
       "    }\n",
       "\n",
       "    .dataframe tbody tr th {\n",
       "        vertical-align: top;\n",
       "    }\n",
       "\n",
       "    .dataframe thead th {\n",
       "        text-align: right;\n",
       "    }\n",
       "</style>\n",
       "<table border=\"1\" class=\"dataframe\">\n",
       "  <thead>\n",
       "    <tr style=\"text-align: right;\">\n",
       "      <th></th>\n",
       "      <th>Data</th>\n",
       "    </tr>\n",
       "  </thead>\n",
       "  <tbody>\n",
       "    <tr>\n",
       "      <th>0</th>\n",
       "      <td>2.000000</td>\n",
       "    </tr>\n",
       "    <tr>\n",
       "      <th>1</th>\n",
       "      <td>4.000000</td>\n",
       "    </tr>\n",
       "    <tr>\n",
       "      <th>2</th>\n",
       "      <td>8.000000</td>\n",
       "    </tr>\n",
       "    <tr>\n",
       "      <th>3</th>\n",
       "      <td>15.933366</td>\n",
       "    </tr>\n",
       "    <tr>\n",
       "      <th>4</th>\n",
       "      <td>32.000000</td>\n",
       "    </tr>\n",
       "    <tr>\n",
       "      <th>5</th>\n",
       "      <td>64.000000</td>\n",
       "    </tr>\n",
       "    <tr>\n",
       "      <th>6</th>\n",
       "      <td>128.000000</td>\n",
       "    </tr>\n",
       "    <tr>\n",
       "      <th>7</th>\n",
       "      <td>183.114900</td>\n",
       "    </tr>\n",
       "    <tr>\n",
       "      <th>8</th>\n",
       "      <td>251.622819</td>\n",
       "    </tr>\n",
       "    <tr>\n",
       "      <th>9</th>\n",
       "      <td>512.000000</td>\n",
       "    </tr>\n",
       "    <tr>\n",
       "      <th>10</th>\n",
       "      <td>1024.000000</td>\n",
       "    </tr>\n",
       "    <tr>\n",
       "      <th>11</th>\n",
       "      <td>2048.000000</td>\n",
       "    </tr>\n",
       "    <tr>\n",
       "      <th>12</th>\n",
       "      <td>4096.000000</td>\n",
       "    </tr>\n",
       "  </tbody>\n",
       "</table>\n",
       "</div>"
      ],
      "text/plain": [
       "           Data\n",
       "0      2.000000\n",
       "1      4.000000\n",
       "2      8.000000\n",
       "3     15.933366\n",
       "4     32.000000\n",
       "5     64.000000\n",
       "6    128.000000\n",
       "7    183.114900\n",
       "8    251.622819\n",
       "9    512.000000\n",
       "10  1024.000000\n",
       "11  2048.000000\n",
       "12  4096.000000"
      ]
     },
     "execution_count": 19,
     "metadata": {},
     "output_type": "execute_result"
    }
   ],
   "source": [
    "df_copy"
   ]
  }
 ],
 "metadata": {
  "kernelspec": {
   "display_name": "Python 3 (ipykernel)",
   "language": "python",
   "name": "python3"
  },
  "language_info": {
   "codemirror_mode": {
    "name": "ipython",
    "version": 3
   },
   "file_extension": ".py",
   "mimetype": "text/x-python",
   "name": "python",
   "nbconvert_exporter": "python",
   "pygments_lexer": "ipython3",
   "version": "3.9.12"
  }
 },
 "nbformat": 4,
 "nbformat_minor": 5
}

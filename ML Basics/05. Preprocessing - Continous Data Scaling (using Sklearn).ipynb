{
 "cells": [
  {
   "cell_type": "code",
   "execution_count": 1,
   "id": "b1283488",
   "metadata": {},
   "outputs": [],
   "source": [
    "import pandas as pd\n",
    "import numpy as np\n",
    "import matplotlib.pyplot as plt\n",
    "from sklearn.preprocessing import StandardScaler, MinMaxScaler, Normalizer, MaxAbsScaler, RobustScaler "
   ]
  },
  {
   "cell_type": "code",
   "execution_count": 2,
   "id": "3a8df1e5",
   "metadata": {},
   "outputs": [
    {
     "data": {
      "text/html": [
       "<div>\n",
       "<style scoped>\n",
       "    .dataframe tbody tr th:only-of-type {\n",
       "        vertical-align: middle;\n",
       "    }\n",
       "\n",
       "    .dataframe tbody tr th {\n",
       "        vertical-align: top;\n",
       "    }\n",
       "\n",
       "    .dataframe thead th {\n",
       "        text-align: right;\n",
       "    }\n",
       "</style>\n",
       "<table border=\"1\" class=\"dataframe\">\n",
       "  <thead>\n",
       "    <tr style=\"text-align: right;\">\n",
       "      <th></th>\n",
       "      <th>Col A</th>\n",
       "      <th>Col B</th>\n",
       "      <th>Col C</th>\n",
       "      <th>Col D</th>\n",
       "    </tr>\n",
       "  </thead>\n",
       "  <tbody>\n",
       "    <tr>\n",
       "      <th>0</th>\n",
       "      <td>180000</td>\n",
       "      <td>110</td>\n",
       "      <td>18.9</td>\n",
       "      <td>1400</td>\n",
       "    </tr>\n",
       "    <tr>\n",
       "      <th>1</th>\n",
       "      <td>360000</td>\n",
       "      <td>905</td>\n",
       "      <td>23.4</td>\n",
       "      <td>1800</td>\n",
       "    </tr>\n",
       "    <tr>\n",
       "      <th>2</th>\n",
       "      <td>230000</td>\n",
       "      <td>230</td>\n",
       "      <td>14.0</td>\n",
       "      <td>1300</td>\n",
       "    </tr>\n",
       "    <tr>\n",
       "      <th>3</th>\n",
       "      <td>60000</td>\n",
       "      <td>450</td>\n",
       "      <td>13.5</td>\n",
       "      <td>1500</td>\n",
       "    </tr>\n",
       "  </tbody>\n",
       "</table>\n",
       "</div>"
      ],
      "text/plain": [
       "    Col A  Col B  Col C  Col D\n",
       "0  180000    110   18.9   1400\n",
       "1  360000    905   23.4   1800\n",
       "2  230000    230   14.0   1300\n",
       "3   60000    450   13.5   1500"
      ]
     },
     "metadata": {},
     "output_type": "display_data"
    }
   ],
   "source": [
    "df = pd.DataFrame([\n",
    "                   [180000, 110, 18.9, 1400], \n",
    "                   [360000, 905, 23.4, 1800], \n",
    "                   [230000, 230, 14.0, 1300], \n",
    "                   [60000, 450, 13.5, 1500]], \n",
    "    \n",
    "                   columns=['Col A', 'Col B',\n",
    "                            'Col C', 'Col D'])\n",
    "  \n",
    "# view data\n",
    "display(df)"
   ]
  },
  {
   "cell_type": "code",
   "execution_count": 3,
   "id": "951eec4c",
   "metadata": {},
   "outputs": [
    {
     "data": {
      "text/plain": [
       "<AxesSubplot:>"
      ]
     },
     "execution_count": 3,
     "metadata": {},
     "output_type": "execute_result"
    },
    {
     "data": {
      "image/png": "[encoded data removed]",
      "text/plain": [
       "<Figure size 432x288 with 1 Axes>"
      ]
     },
     "metadata": {
      "needs_background": "light"
     },
     "output_type": "display_data"
    }
   ],
   "source": [
    "df.plot(kind = 'bar')"
   ]
  },
  {
   "cell_type": "markdown",
   "id": "7ad078d4",
   "metadata": {},
   "source": [
    "### Maximum Absolute Scaling"
   ]
  },
  {
   "cell_type": "code",
   "execution_count": 4,
   "id": "2901b4a4",
   "metadata": {},
   "outputs": [
    {
     "data": {
      "text/html": [
       "<div>\n",
       "<style scoped>\n",
       "    .dataframe tbody tr th:only-of-type {\n",
       "        vertical-align: middle;\n",
       "    }\n",
       "\n",
       "    .dataframe tbody tr th {\n",
       "        vertical-align: top;\n",
       "    }\n",
       "\n",
       "    .dataframe thead th {\n",
       "        text-align: right;\n",
       "    }\n",
       "</style>\n",
       "<table border=\"1\" class=\"dataframe\">\n",
       "  <thead>\n",
       "    <tr style=\"text-align: right;\">\n",
       "      <th></th>\n",
       "      <th>Col A</th>\n",
       "      <th>Col B</th>\n",
       "      <th>Col C</th>\n",
       "      <th>Col D</th>\n",
       "    </tr>\n",
       "  </thead>\n",
       "  <tbody>\n",
       "    <tr>\n",
       "      <th>0</th>\n",
       "      <td>0.500000</td>\n",
       "      <td>0.121547</td>\n",
       "      <td>0.807692</td>\n",
       "      <td>0.777778</td>\n",
       "    </tr>\n",
       "    <tr>\n",
       "      <th>1</th>\n",
       "      <td>1.000000</td>\n",
       "      <td>1.000000</td>\n",
       "      <td>1.000000</td>\n",
       "      <td>1.000000</td>\n",
       "    </tr>\n",
       "    <tr>\n",
       "      <th>2</th>\n",
       "      <td>0.638889</td>\n",
       "      <td>0.254144</td>\n",
       "      <td>0.598291</td>\n",
       "      <td>0.722222</td>\n",
       "    </tr>\n",
       "    <tr>\n",
       "      <th>3</th>\n",
       "      <td>0.166667</td>\n",
       "      <td>0.497238</td>\n",
       "      <td>0.576923</td>\n",
       "      <td>0.833333</td>\n",
       "    </tr>\n",
       "  </tbody>\n",
       "</table>\n",
       "</div>"
      ],
      "text/plain": [
       "      Col A     Col B     Col C     Col D\n",
       "0  0.500000  0.121547  0.807692  0.777778\n",
       "1  1.000000  1.000000  1.000000  1.000000\n",
       "2  0.638889  0.254144  0.598291  0.722222\n",
       "3  0.166667  0.497238  0.576923  0.833333"
      ]
     },
     "metadata": {},
     "output_type": "display_data"
    },
    {
     "data": {
      "text/plain": [
       "<AxesSubplot:>"
      ]
     },
     "execution_count": 4,
     "metadata": {},
     "output_type": "execute_result"
    },
    {
     "data": {
      "image/png": "[encoded data removed]",
      "text/plain": [
       "<Figure size 432x288 with 1 Axes>"
      ]
     },
     "metadata": {
      "needs_background": "light"
     },
     "output_type": "display_data"
    }
   ],
   "source": [
    "#copy data\n",
    "df_max_copy = df.copy()\n",
    "\n",
    "# max abs scaling data\n",
    "df_max_copy = MaxAbsScaler().fit_transform(df_max_copy)\n",
    "\n",
    "#Transform data for visualize\n",
    "df_max_copy = pd.DataFrame(df_max_copy, columns= df.columns)\n",
    "\n",
    "#display normalized df\n",
    "display(df_max_copy)\n",
    "\n",
    "df_max_copy.plot(kind = 'bar')"
   ]
  },
  {
   "cell_type": "markdown",
   "id": "b101a0da",
   "metadata": {},
   "source": [
    "### MinMax Scaling"
   ]
  },
  {
   "cell_type": "code",
   "execution_count": 5,
   "id": "900aba74",
   "metadata": {},
   "outputs": [
    {
     "data": {
      "text/html": [
       "<div>\n",
       "<style scoped>\n",
       "    .dataframe tbody tr th:only-of-type {\n",
       "        vertical-align: middle;\n",
       "    }\n",
       "\n",
       "    .dataframe tbody tr th {\n",
       "        vertical-align: top;\n",
       "    }\n",
       "\n",
       "    .dataframe thead th {\n",
       "        text-align: right;\n",
       "    }\n",
       "</style>\n",
       "<table border=\"1\" class=\"dataframe\">\n",
       "  <thead>\n",
       "    <tr style=\"text-align: right;\">\n",
       "      <th></th>\n",
       "      <th>Col A</th>\n",
       "      <th>Col B</th>\n",
       "      <th>Col C</th>\n",
       "      <th>Col D</th>\n",
       "    </tr>\n",
       "  </thead>\n",
       "  <tbody>\n",
       "    <tr>\n",
       "      <th>0</th>\n",
       "      <td>0.400000</td>\n",
       "      <td>0.000000</td>\n",
       "      <td>0.545455</td>\n",
       "      <td>0.2</td>\n",
       "    </tr>\n",
       "    <tr>\n",
       "      <th>1</th>\n",
       "      <td>1.000000</td>\n",
       "      <td>1.000000</td>\n",
       "      <td>1.000000</td>\n",
       "      <td>1.0</td>\n",
       "    </tr>\n",
       "    <tr>\n",
       "      <th>2</th>\n",
       "      <td>0.566667</td>\n",
       "      <td>0.150943</td>\n",
       "      <td>0.050505</td>\n",
       "      <td>0.0</td>\n",
       "    </tr>\n",
       "    <tr>\n",
       "      <th>3</th>\n",
       "      <td>0.000000</td>\n",
       "      <td>0.427673</td>\n",
       "      <td>0.000000</td>\n",
       "      <td>0.4</td>\n",
       "    </tr>\n",
       "  </tbody>\n",
       "</table>\n",
       "</div>"
      ],
      "text/plain": [
       "      Col A     Col B     Col C  Col D\n",
       "0  0.400000  0.000000  0.545455    0.2\n",
       "1  1.000000  1.000000  1.000000    1.0\n",
       "2  0.566667  0.150943  0.050505    0.0\n",
       "3  0.000000  0.427673  0.000000    0.4"
      ]
     },
     "metadata": {},
     "output_type": "display_data"
    },
    {
     "data": {
      "text/plain": [
       "<AxesSubplot:>"
      ]
     },
     "execution_count": 5,
     "metadata": {},
     "output_type": "execute_result"
    },
    {
     "data": {
      "image/png": "[encoded data removed]",
      "text/plain": [
       "<Figure size 432x288 with 1 Axes>"
      ]
     },
     "metadata": {
      "needs_background": "light"
     },
     "output_type": "display_data"
    }
   ],
   "source": [
    "#copy data\n",
    "df_minmax_copy = df.copy()\n",
    "\n",
    "# max abs scaling data\n",
    "df_minmax_copy = MinMaxScaler().fit_transform(df_minmax_copy)\n",
    "\n",
    "#Transform data for visualize\n",
    "df_minmax_copy = pd.DataFrame(df_minmax_copy, columns= df.columns)\n",
    "\n",
    "#display normalized df\n",
    "display(df_minmax_copy)\n",
    "\n",
    "df_minmax_copy.plot(kind = 'bar')"
   ]
  },
  {
   "cell_type": "markdown",
   "id": "498baf91",
   "metadata": {},
   "source": [
    "### Standardization"
   ]
  },
  {
   "cell_type": "code",
   "execution_count": 6,
   "id": "3be89650",
   "metadata": {},
   "outputs": [
    {
     "data": {
      "text/html": [
       "<div>\n",
       "<style scoped>\n",
       "    .dataframe tbody tr th:only-of-type {\n",
       "        vertical-align: middle;\n",
       "    }\n",
       "\n",
       "    .dataframe tbody tr th {\n",
       "        vertical-align: top;\n",
       "    }\n",
       "\n",
       "    .dataframe thead th {\n",
       "        text-align: right;\n",
       "    }\n",
       "</style>\n",
       "<table border=\"1\" class=\"dataframe\">\n",
       "  <thead>\n",
       "    <tr style=\"text-align: right;\">\n",
       "      <th></th>\n",
       "      <th>Col A</th>\n",
       "      <th>Col B</th>\n",
       "      <th>Col C</th>\n",
       "      <th>Col D</th>\n",
       "    </tr>\n",
       "  </thead>\n",
       "  <tbody>\n",
       "    <tr>\n",
       "      <th>0</th>\n",
       "      <td>-0.255676</td>\n",
       "      <td>-1.034026</td>\n",
       "      <td>0.359673</td>\n",
       "      <td>-0.534522</td>\n",
       "    </tr>\n",
       "    <tr>\n",
       "      <th>1</th>\n",
       "      <td>1.417838</td>\n",
       "      <td>1.586055</td>\n",
       "      <td>1.475900</td>\n",
       "      <td>1.603567</td>\n",
       "    </tr>\n",
       "    <tr>\n",
       "      <th>2</th>\n",
       "      <td>0.209189</td>\n",
       "      <td>-0.638542</td>\n",
       "      <td>-0.855774</td>\n",
       "      <td>-1.069045</td>\n",
       "    </tr>\n",
       "    <tr>\n",
       "      <th>3</th>\n",
       "      <td>-1.371352</td>\n",
       "      <td>0.086512</td>\n",
       "      <td>-0.979799</td>\n",
       "      <td>0.000000</td>\n",
       "    </tr>\n",
       "  </tbody>\n",
       "</table>\n",
       "</div>"
      ],
      "text/plain": [
       "      Col A     Col B     Col C     Col D\n",
       "0 -0.255676 -1.034026  0.359673 -0.534522\n",
       "1  1.417838  1.586055  1.475900  1.603567\n",
       "2  0.209189 -0.638542 -0.855774 -1.069045\n",
       "3 -1.371352  0.086512 -0.979799  0.000000"
      ]
     },
     "metadata": {},
     "output_type": "display_data"
    },
    {
     "data": {
      "text/plain": [
       "<AxesSubplot:>"
      ]
     },
     "execution_count": 6,
     "metadata": {},
     "output_type": "execute_result"
    },
    {
     "data": {
      "image/png": "[encoded data removed]",
      "text/plain": [
       "<Figure size 432x288 with 1 Axes>"
      ]
     },
     "metadata": {
      "needs_background": "light"
     },
     "output_type": "display_data"
    }
   ],
   "source": [
    "#copy data\n",
    "df_stdscl_copy = df.copy()\n",
    "\n",
    "# max abs scaling data\n",
    "df_stdscl_copy = StandardScaler().fit_transform(df_stdscl_copy)\n",
    "\n",
    "#Transform data for visualize\n",
    "df_stdscl_copy = pd.DataFrame(df_stdscl_copy, columns= df.columns)\n",
    "\n",
    "#display normalized df\n",
    "display(df_stdscl_copy)\n",
    "\n",
    "df_stdscl_copy.plot(kind = 'bar')"
   ]
  },
  {
   "cell_type": "markdown",
   "id": "1df0c569",
   "metadata": {},
   "source": [
    "### Normalization"
   ]
  },
  {
   "cell_type": "code",
   "execution_count": 7,
   "id": "c2cad177",
   "metadata": {},
   "outputs": [
    {
     "data": {
      "text/html": [
       "<div>\n",
       "<style scoped>\n",
       "    .dataframe tbody tr th:only-of-type {\n",
       "        vertical-align: middle;\n",
       "    }\n",
       "\n",
       "    .dataframe tbody tr th {\n",
       "        vertical-align: top;\n",
       "    }\n",
       "\n",
       "    .dataframe thead th {\n",
       "        text-align: right;\n",
       "    }\n",
       "</style>\n",
       "<table border=\"1\" class=\"dataframe\">\n",
       "  <thead>\n",
       "    <tr style=\"text-align: right;\">\n",
       "      <th></th>\n",
       "      <th>Col A</th>\n",
       "      <th>Col B</th>\n",
       "      <th>Col C</th>\n",
       "      <th>Col D</th>\n",
       "    </tr>\n",
       "  </thead>\n",
       "  <tbody>\n",
       "    <tr>\n",
       "      <th>0</th>\n",
       "      <td>0.999970</td>\n",
       "      <td>0.000611</td>\n",
       "      <td>0.000105</td>\n",
       "      <td>0.007778</td>\n",
       "    </tr>\n",
       "    <tr>\n",
       "      <th>1</th>\n",
       "      <td>0.999984</td>\n",
       "      <td>0.002514</td>\n",
       "      <td>0.000065</td>\n",
       "      <td>0.005000</td>\n",
       "    </tr>\n",
       "    <tr>\n",
       "      <th>2</th>\n",
       "      <td>0.999984</td>\n",
       "      <td>0.001000</td>\n",
       "      <td>0.000061</td>\n",
       "      <td>0.005652</td>\n",
       "    </tr>\n",
       "    <tr>\n",
       "      <th>3</th>\n",
       "      <td>0.999660</td>\n",
       "      <td>0.007497</td>\n",
       "      <td>0.000225</td>\n",
       "      <td>0.024991</td>\n",
       "    </tr>\n",
       "  </tbody>\n",
       "</table>\n",
       "</div>"
      ],
      "text/plain": [
       "      Col A     Col B     Col C     Col D\n",
       "0  0.999970  0.000611  0.000105  0.007778\n",
       "1  0.999984  0.002514  0.000065  0.005000\n",
       "2  0.999984  0.001000  0.000061  0.005652\n",
       "3  0.999660  0.007497  0.000225  0.024991"
      ]
     },
     "metadata": {},
     "output_type": "display_data"
    },
    {
     "data": {
      "text/plain": [
       "<AxesSubplot:>"
      ]
     },
     "execution_count": 7,
     "metadata": {},
     "output_type": "execute_result"
    },
    {
     "data": {
      "image/png": "[encoded data removed]",
      "text/plain": [
       "<Figure size 432x288 with 1 Axes>"
      ]
     },
     "metadata": {
      "needs_background": "light"
     },
     "output_type": "display_data"
    }
   ],
   "source": [
    "#copy data\n",
    "df_norm_copy = df.copy()\n",
    "\n",
    "# normalization scaling data\n",
    "df_norm_copy = Normalizer().fit_transform(df_norm_copy)\n",
    "\n",
    "#Transform data for visualize\n",
    "df_norm_copy = pd.DataFrame(df_norm_copy, columns= df.columns)\n",
    "\n",
    "#display normalized df\n",
    "display(df_norm_copy)\n",
    "\n",
    "df_norm_copy.plot(kind = 'bar')"
   ]
  },
  {
   "cell_type": "markdown",
   "id": "64981189",
   "metadata": {},
   "source": [
    "### Robust Scaling"
   ]
  },
  {
   "cell_type": "code",
   "execution_count": 8,
   "id": "d19d0047",
   "metadata": {},
   "outputs": [
    {
     "data": {
      "text/html": [
       "<div>\n",
       "<style scoped>\n",
       "    .dataframe tbody tr th:only-of-type {\n",
       "        vertical-align: middle;\n",
       "    }\n",
       "\n",
       "    .dataframe tbody tr th {\n",
       "        vertical-align: top;\n",
       "    }\n",
       "\n",
       "    .dataframe thead th {\n",
       "        text-align: right;\n",
       "    }\n",
       "</style>\n",
       "<table border=\"1\" class=\"dataframe\">\n",
       "  <thead>\n",
       "    <tr style=\"text-align: right;\">\n",
       "      <th></th>\n",
       "      <th>Col A</th>\n",
       "      <th>Col B</th>\n",
       "      <th>Col C</th>\n",
       "      <th>Col D</th>\n",
       "    </tr>\n",
       "  </thead>\n",
       "  <tbody>\n",
       "    <tr>\n",
       "      <th>0</th>\n",
       "      <td>-0.222222</td>\n",
       "      <td>-0.632302</td>\n",
       "      <td>0.398374</td>\n",
       "      <td>-0.25</td>\n",
       "    </tr>\n",
       "    <tr>\n",
       "      <th>1</th>\n",
       "      <td>1.377778</td>\n",
       "      <td>1.553265</td>\n",
       "      <td>1.130081</td>\n",
       "      <td>1.75</td>\n",
       "    </tr>\n",
       "    <tr>\n",
       "      <th>2</th>\n",
       "      <td>0.222222</td>\n",
       "      <td>-0.302405</td>\n",
       "      <td>-0.398374</td>\n",
       "      <td>-0.75</td>\n",
       "    </tr>\n",
       "    <tr>\n",
       "      <th>3</th>\n",
       "      <td>-1.288889</td>\n",
       "      <td>0.302405</td>\n",
       "      <td>-0.479675</td>\n",
       "      <td>0.25</td>\n",
       "    </tr>\n",
       "  </tbody>\n",
       "</table>\n",
       "</div>"
      ],
      "text/plain": [
       "      Col A     Col B     Col C  Col D\n",
       "0 -0.222222 -0.632302  0.398374  -0.25\n",
       "1  1.377778  1.553265  1.130081   1.75\n",
       "2  0.222222 -0.302405 -0.398374  -0.75\n",
       "3 -1.288889  0.302405 -0.479675   0.25"
      ]
     },
     "metadata": {},
     "output_type": "display_data"
    },
    {
     "data": {
      "text/plain": [
       "<AxesSubplot:>"
      ]
     },
     "execution_count": 8,
     "metadata": {},
     "output_type": "execute_result"
    },
    {
     "data": {
      "image/png": "[encoded data removed]",
      "text/plain": [
       "<Figure size 432x288 with 1 Axes>"
      ]
     },
     "metadata": {
      "needs_background": "light"
     },
     "output_type": "display_data"
    }
   ],
   "source": [
    "#copy data\n",
    "df_robust_copy = df.copy()\n",
    "\n",
    "# Robust scaling data\n",
    "df_robust_copy = RobustScaler().fit_transform(df_robust_copy)\n",
    "\n",
    "#Transform data for visualize\n",
    "df_robust_copy = pd.DataFrame(df_robust_copy, columns= df.columns)\n",
    "\n",
    "#display normalized df\n",
    "display(df_robust_copy)\n",
    "\n",
    "df_robust_copy.plot(kind = 'bar')"
   ]
  },
  {
   "cell_type": "code",
   "execution_count": null,
   "id": "45a234c8",
   "metadata": {},
   "outputs": [],
   "source": []
  }
 ],
 "metadata": {
  "kernelspec": {
   "display_name": "Python 3 (ipykernel)",
   "language": "python",
   "name": "python3"
  },
  "language_info": {
   "codemirror_mode": {
    "name": "ipython",
    "version": 3
   },
   "file_extension": ".py",
   "mimetype": "text/x-python",
   "name": "python",
   "nbconvert_exporter": "python",
   "pygments_lexer": "ipython3",
   "version": "3.9.12"
  }
 },
 "nbformat": 4,
 "nbformat_minor": 5
}
